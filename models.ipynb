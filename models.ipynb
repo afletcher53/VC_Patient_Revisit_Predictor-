{
 "cells": [
  {
   "cell_type": "code",
   "execution_count": null,
   "metadata": {},
   "outputs": [],
   "source": [
    "from configuration import FilePaths, Config\n",
    "import tensorflow as tf\n",
    "import numpy as np\n",
    "\n",
    "FILE_PATHS = FilePaths()\n",
    "\n",
    "# import saved data from pickle files\n",
    "\n",
    "import pickle\n",
    "\n",
    "with open(FILE_PATHS.X_TRAIN, \"rb\") as f:\n",
    "    x_train = pickle.load(f)\n",
    "\n",
    "with open(FILE_PATHS.X_TEST, \"rb\") as f:\n",
    "    x_test = pickle.load(f)\n",
    "\n",
    "with open(FILE_PATHS.Y_TRAIN, \"rb\") as f:\n",
    "    y_train = pickle.load(f)\n",
    "\n",
    "with open(FILE_PATHS.Y_TEST, \"rb\") as f:\n",
    "    y_test = pickle.load(f)\n",
    "\n",
    "with open(FILE_PATHS.X_VAL, \"rb\") as f:\n",
    "    x_val = pickle.load(f)\n",
    "\n",
    "with open(FILE_PATHS.Y_VAL, \"rb\") as f:\n",
    "    y_val = pickle.load(f)\n",
    "    "
   ]
  },
  {
   "cell_type": "code",
   "execution_count": null,
   "metadata": {},
   "outputs": [],
   "source": [
    "def make_embedding_matrix(train_samples, embeddings_index):\n",
    "    \"\"\"\n",
    "    This function computes the embedding matrix that will be used in the embedding layer\n",
    "\n",
    "    Parameters:\n",
    "        train_samples: list of strings in the training dataset\n",
    "        val_samples: list of strings in the validation dataset\n",
    "        embeddings_index: Python dictionary with word embeddings\n",
    "\n",
    "    Returns:\n",
    "        embedding_matrix: embedding matrix with the dimensions (num_tokens, embedding_dim), where num_tokens is the vocabulary of the input data, and emdebbing_dim is the number of components in the GloVe vectors (can be 50,100,200,300)\n",
    "        vectorizer: TextVectorization layer\n",
    "    \"\"\"\n",
    "\n",
    "    vectorizer = tf.keras.layers.TextVectorization(\n",
    "        max_tokens=Config.max_features, output_sequence_length=Config.max_len\n",
    "    )\n",
    "    text_ds = tf.data.Dataset.from_tensor_slices(train_samples).batch(Config.batch_size)\n",
    "    vectorizer.adapt(text_ds)\n",
    "\n",
    "    voc = vectorizer.get_vocabulary()\n",
    "    word_index = dict(zip(voc, range(len(voc))))\n",
    "\n",
    "    num_tokens = len(voc)\n",
    "\n",
    "    hits = 0\n",
    "    misses = 0\n",
    "\n",
    "    #   creating an embedding matrix\n",
    "    embedding_dim = len(embeddings_index[\"the\"])\n",
    "    embedding_matrix = np.zeros((num_tokens, embedding_dim))\n",
    "    for word, i in word_index.items():\n",
    "        embedding_vector = embeddings_index.get(word)\n",
    "        if embedding_vector is not None:\n",
    "            # Words not found in embedding index will be all-zeros\n",
    "            embedding_matrix[i] = embedding_vector\n",
    "            hits += 1\n",
    "        else:\n",
    "            misses += 1\n",
    "\n",
    "    print(f\"Converted {hits} words ({misses} misses).\")\n",
    "\n",
    "    return embedding_matrix, vectorizer"
   ]
  },
  {
   "cell_type": "code",
   "execution_count": null,
   "metadata": {},
   "outputs": [],
   "source": [
    "#Load Glove Embeddings \n",
    "embeddings_index = {}\n",
    "\n",
    "f = open(FILE_PATHS.FILE_TO_GLOVE, 'r', encoding='utf8')\n",
    "for line in f:\n",
    "    splitLine = line.split(' ')\n",
    "    word = splitLine[0]                                  # the first entry is the word\n",
    "    coefs = np.asarray(splitLine[1:], dtype='float32')   # these are the vectors representing word embeddings\n",
    "    embeddings_index[word] = coefs\n",
    "print(\"Glove data loaded! In total:\",len(embeddings_index),\" words.\")"
   ]
  },
  {
   "cell_type": "code",
   "execution_count": null,
   "metadata": {},
   "outputs": [],
   "source": [
    "embedding_matrix, vectorizer = make_embedding_matrix([item[0] for item in x_train], embeddings_index=embeddings_index)"
   ]
  },
  {
   "cell_type": "code",
   "execution_count": null,
   "metadata": {},
   "outputs": [],
   "source": [
    "vectorizer.get_vocabulary()[99]"
   ]
  },
  {
   "cell_type": "code",
   "execution_count": null,
   "metadata": {},
   "outputs": [],
   "source": [
    "print(x_train[0][0])\n",
    "vectorizer(x_train[0][0])"
   ]
  },
  {
   "cell_type": "code",
   "execution_count": null,
   "metadata": {},
   "outputs": [],
   "source": [
    "for i in vectorizer(x_train[0][0]):\n",
    "    print(vectorizer.get_vocabulary()[i],end=\" \")"
   ]
  }
 ],
 "metadata": {
  "kernelspec": {
   "display_name": "tf",
   "language": "python",
   "name": "python3"
  },
  "language_info": {
   "codemirror_mode": {
    "name": "ipython",
    "version": 3
   },
   "file_extension": ".py",
   "mimetype": "text/x-python",
   "name": "python",
   "nbconvert_exporter": "python",
   "pygments_lexer": "ipython3",
   "version": "3.9.12"
  },
  "vscode": {
   "interpreter": {
    "hash": "d6f07f10bbd904384622e2c81da346bac6398da26490ea76cc729ffb1c8c49fa"
   }
  }
 },
 "nbformat": 4,
 "nbformat_minor": 2
}
