{
 "cells": [
  {
   "cell_type": "code",
   "execution_count": null,
   "metadata": {},
   "outputs": [],
   "source": [
    "#load ehr_stream and target_values from pickle files\n",
    "import pickle\n",
    "from configuration import FilePaths\n",
    "import pandas as pd\n",
    "from nltk.corpus import stopwords\n",
    "from nltk.stem.porter import PorterStemmer\n",
    "from nltk.tokenize import word_tokenize\n",
    "import nltk\n",
    "FILE_PATHS = FilePaths()\n",
    "\n",
    "ehr_stream = pickle.load(open(FILE_PATHS.EHR_STREAM, \"rb\"))\n",
    "target_values = pickle.load(open(FILE_PATHS.TARGET_VALUES, \"rb\"))"
   ]
  },
  {
   "cell_type": "code",
   "execution_count": null,
   "metadata": {},
   "outputs": [],
   "source": [
    "df = pd.DataFrame(ehr_stream)\n",
    "\n",
    "# Sample \n",
    "\n",
    "import pprint\n",
    "pprint.pprint(f'Input timestream {df.loc[1290]}')\n",
    "pprint.pprint(f'Will they revisit: {target_values[1290]}')"
   ]
  },
  {
   "cell_type": "code",
   "execution_count": null,
   "metadata": {},
   "outputs": [],
   "source": [
    "def tokenize(column):\n",
    "    \"\"\"Tokenizes a Pandas dataframe column and returns a list of tokens.\n",
    "\n",
    "    Args:\n",
    "        column: Pandas dataframe column (i.e. df['text']).\n",
    "\n",
    "    Returns:\n",
    "        tokens (list): Tokenized list, i.e. [Donald, Trump, tweets]\n",
    "\n",
    "    \"\"\"\n",
    "\n",
    "    tokens = nltk.word_tokenize(column)\n",
    "    return [w for w in tokens]   "
   ]
  },
  {
   "cell_type": "code",
   "execution_count": null,
   "metadata": {},
   "outputs": [],
   "source": [
    "def remove_stopwords(tokenized_column):\n",
    "    \"\"\"Return a list of tokens with English stopwords removed. \n",
    "\n",
    "    Args:\n",
    "        column: Pandas dataframe column of tokenized data from tokenize()\n",
    "\n",
    "    Returns:\n",
    "        tokens (list): Tokenized list with stopwords removed.\n",
    "\n",
    "    \"\"\"\n",
    "    stops = set(stopwords.words(\"english\"))\n",
    "    return [word for word in tokenized_column if not word in stops]"
   ]
  },
  {
   "cell_type": "code",
   "execution_count": null,
   "metadata": {},
   "outputs": [],
   "source": [
    "def rejoin_words(tokenized_column):\n",
    "    \"\"\"Rejoins a tokenized word list into a single string. \n",
    "    \n",
    "    Args:\n",
    "        tokenized_column (list): Tokenized column of words. \n",
    "        \n",
    "    Returns:\n",
    "        string: Single string of untokenized words. \n",
    "    \"\"\"\n",
    "    return ( \" \".join(tokenized_column))"
   ]
  },
  {
   "cell_type": "code",
   "execution_count": null,
   "metadata": {},
   "outputs": [],
   "source": [
    "# loop through dataframe columns and tokenize\n",
    "for column in df.columns:\n",
    "    df[column] = df[column].apply(tokenize)\n",
    "    df[column] = df[column].apply(remove_stopwords)\n",
    "    df[column] = df[column].apply(rejoin_words)\n"
   ]
  },
  {
   "cell_type": "code",
   "execution_count": null,
   "metadata": {},
   "outputs": [],
   "source": [
    "df['targets'] = target_values\n",
    "\n",
    "#issue with pads returning true for all targets\n",
    "df"
   ]
  },
  {
   "cell_type": "code",
   "execution_count": null,
   "metadata": {},
   "outputs": [],
   "source": [
    "from sklearn.model_selection import train_test_split\n",
    "\n",
    "X_train,X_test,y_train,y_test = train_test_split(df.index,target_values,test_size=0.2)\n",
    "df.iloc[X_train]\n",
    "X_train, X_val, y_train, y_val = train_test_split(X_train, y_train, test_size=0.2)"
   ]
  },
  {
   "cell_type": "code",
   "execution_count": null,
   "metadata": {},
   "outputs": [],
   "source": [
    "# Save the train, test, and validation sets to pickle files\n",
    "\n",
    "pickle.dump(df.iloc[X_train].values.tolist(), open(FILE_PATHS.X_TRAIN, \"wb\"))\n",
    "pickle.dump(df.iloc[X_test].values.tolist(), open(FILE_PATHS.X_TEST, \"wb\"))\n",
    "pickle.dump(df.iloc[X_val].values.tolist(), open(FILE_PATHS.X_VAL, \"wb\"))\n",
    "pickle.dump(y_train, open(FILE_PATHS.Y_TRAIN, \"wb\"))\n",
    "pickle.dump(y_test, open(FILE_PATHS.Y_TEST, \"wb\"))\n",
    "pickle.dump(y_val, open(FILE_PATHS.Y_VAL, \"wb\"))"
   ]
  }
 ],
 "metadata": {
  "kernelspec": {
   "display_name": "tf",
   "language": "python",
   "name": "python3"
  },
  "language_info": {
   "codemirror_mode": {
    "name": "ipython",
    "version": 3
   },
   "file_extension": ".py",
   "mimetype": "text/x-python",
   "name": "python",
   "nbconvert_exporter": "python",
   "pygments_lexer": "ipython3",
   "version": "3.9.12"
  },
  "vscode": {
   "interpreter": {
    "hash": "d6f07f10bbd904384622e2c81da346bac6398da26490ea76cc729ffb1c8c49fa"
   }
  }
 },
 "nbformat": 4,
 "nbformat_minor": 2
}
