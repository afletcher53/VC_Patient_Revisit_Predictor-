{
 "cells": [
  {
   "cell_type": "code",
   "execution_count": null,
   "metadata": {},
   "outputs": [],
   "source": [
    "import pickle\n",
    "\n",
    "import numpy as np\n",
    "import pandas as pd\n",
    "\n",
    "from configuration import Config, FilePaths\n",
    "\n",
    "FILE_PATHS = FilePaths()\n",
    "output_adjusted_timesteps: bool = True"
   ]
  },
  {
   "cell_type": "code",
   "execution_count": null,
   "metadata": {},
   "outputs": [],
   "source": [
    "rearranged_df_as_read = pd.read_csv(FILE_PATHS.REARRANGED_DATA, dtype=str)"
   ]
  },
  {
   "cell_type": "code",
   "execution_count": null,
   "metadata": {},
   "outputs": [],
   "source": [
    "rearranged_df = rearranged_df_as_read.copy()\n",
    "rearranged_df.set_index(\"Patient Id\", inplace=True)\n",
    "rearranged_df = rearranged_df.dropna()\n",
    "rearranged_df"
   ]
  },
  {
   "cell_type": "code",
   "execution_count": null,
   "metadata": {},
   "outputs": [],
   "source": [
    "def fit_data_to_timesteps(df, verbose: bool = True) -> list[list]:\n",
    "    \"\"\"Converts pandas datastep to timestream.\n",
    "\n",
    "    Args:\n",
    "        df (Dataframe): Patient dataframe, with each row being a patient\n",
    "        verbose (bool, optional): _description_. Defaults to False.\n",
    "    Returns:\n",
    "        list[list]: _description_\n",
    "    \"\"\"\n",
    "    patient_id_set: set = set(df.index)\n",
    "    time_stamps: list = [str(x) for x in range(1, 365 + 1)]\n",
    "    ehr_stream: list = []\n",
    "    target_values: list = []\n",
    "\n",
    "\n",
    "    for patient_id in patient_id_set:\n",
    "        element = df.index.get_loc(patient_id)\n",
    "        if verbose is True:\n",
    "            print(\"-\" * 56)\n",
    "            print(f\"Patient: {element}\")\n",
    "            print(\"-\" * 56)\n",
    "        for (colname, colvalue) in df.iloc[element].iteritems():\n",
    "            if colvalue not in time_stamps:\n",
    "                # boolean to include in the dataset\n",
    "                include: bool = True\n",
    "                input_start_timestep = int(colname)\n",
    "                clamped_input_start_timestep = np.clip(input_start_timestep, 0, 365)\n",
    "                input_end_timestep = int(colname) + int(Config.time_step)\n",
    "                clamped_input_end_timestep = np.clip(input_end_timestep, 0, 365)\n",
    "\n",
    "                target_start_timestep = np.clip(clamped_input_end_timestep + 1, 0, 365)\n",
    "                clamped_target_start_timestep = np.clip(target_start_timestep, 0, 365)\n",
    "                target_end_timestep = np.clip(clamped_input_end_timestep + 1 + Config.time_step, 0, 365)\n",
    "                clamped_target_end_timestep = np.clip(target_end_timestep, 0, 365)\n",
    "\n",
    "                row_slice = df.iloc[element]\n",
    "                if verbose is True:\n",
    "                    print(f\"Visit found\")\n",
    "                    print(f\"Input - Start Timestep: {clamped_input_start_timestep}\")\n",
    "                    print(f\"Input - End timestep: { clamped_input_end_timestep}\")\n",
    "                    print(f\"Target - Start timestep: {clamped_target_start_timestep}\")\n",
    "                    print(f\"Target - End timestep: {clamped_target_end_timestep}\")\n",
    "                  \n",
    "\n",
    "                data_stream = row_slice.iloc[\n",
    "                    clamped_input_start_timestep : clamped_input_end_timestep\n",
    "                ].to_list()\n",
    "                \n",
    "                target_stream = row_slice.iloc[clamped_target_start_timestep:clamped_target_end_timestep].to_list()\n",
    "\n",
    "                # Pad timestreams to timestep length\n",
    "                if len(data_stream) < Config.time_step:\n",
    "                    diff: int = Config.time_step - len(data_stream)\n",
    "                    pad_stream: list = [str(\"<pad>\") for x in range(1, diff + 1)]\n",
    "                    data_stream.extend(pad_stream)\n",
    "                    print(f\"Input too short - Timestep padded\")\n",
    "                    \n",
    "\n",
    "                adjusted_target_stream = [int(s) if s.isdigit() else s for s in target_stream]\n",
    "                print(f'The length of target stream: {len(adjusted_target_stream)}')\n",
    "                target: bool = False\n",
    "                if len(adjusted_target_stream) == 0:\n",
    "                    include=False\n",
    "                    target=False\n",
    "                    print(f'No valid target time_stream (No values): Exluding from dataset')\n",
    "                else:\n",
    "                    target = all(isinstance(item, int) for item in adjusted_target_stream)\n",
    "                print(f'Target: {target}')\n",
    "                print(\"_\" * 56)\n",
    "\n",
    "                if include is True:\n",
    "                    ehr_stream.append(data_stream)\n",
    "                    target_values.append(target)\n",
    "    return ehr_stream, target_values\n",
    "\n",
    "ehr_stream, target_values = fit_data_to_timesteps(rearranged_df)\n"
   ]
  },
  {
   "cell_type": "code",
   "execution_count": null,
   "metadata": {},
   "outputs": [],
   "source": [
    "def add_time_since_last_vist(\n",
    "    time_stream: list[list], verbose: bool = False\n",
    ") -> list[list]:\n",
    "    \"\"\"Adjusts a timestream to count time since the last visit.\n",
    "        i.e.\n",
    "        from ['Visit', '1', '2', '3', 'Visit', '5', '6']\n",
    "        to ['Visit', '1', '2', '3', 'Visit', '1', '2']\n",
    "\n",
    "    Args:\n",
    "        time_stream (list[list]): Unadjusted patient timestream\n",
    "        verbose (bool, optional): Output information. Defaults to False.\n",
    "\n",
    "    Returns:\n",
    "        list[list]: Adjusted timestream\n",
    "    \"\"\"\n",
    "    adjusted_time_stream: list = []\n",
    "    for index, _ in enumerate(time_stream):\n",
    "        inner_lst = [int(s) if s.isdigit() else s for s in ehr_stream[index]]\n",
    "        adjusted_inner_lst: list = []\n",
    "        count = 0\n",
    "        for inner_index, inner_element in enumerate(inner_lst):\n",
    "            if type(inner_element) == str:\n",
    "                adjusted_inner_lst.append(inner_element)\n",
    "                if verbose:\n",
    "                    print(f\"index of {inner_index} is a string, count reset\")\n",
    "                count = 0\n",
    "            if count != 0:\n",
    "                if verbose:\n",
    "                    print(f\"Times since last visit {count}\")\n",
    "                adjusted_inner_lst.append(str(count))\n",
    "            count += 1\n",
    "        adjusted_time_stream.append(adjusted_inner_lst)\n",
    "    return adjusted_time_stream\n",
    "\n",
    "\n",
    "if output_adjusted_timesteps:\n",
    "    ehr_stream = add_time_since_last_vist(ehr_stream)"
   ]
  },
  {
   "cell_type": "code",
   "execution_count": null,
   "metadata": {},
   "outputs": [],
   "source": [
    "import pprint\n",
    "pp = pprint.PrettyPrinter(indent=4)\n",
    "for i in range(0, 5):\n",
    "    pp.pprint(i)\n",
    "    pp.pprint(ehr_stream[i])\n",
    "    pp.pprint(target_values[i])"
   ]
  },
  {
   "cell_type": "code",
   "execution_count": null,
   "metadata": {},
   "outputs": [],
   "source": [
    "ehr_stream = np.array(ehr_stream)\n",
    "target_values = np.array(target_values)"
   ]
  },
  {
   "cell_type": "code",
   "execution_count": null,
   "metadata": {},
   "outputs": [],
   "source": [
    "# SAVE data using pickle\n",
    "with open(FILE_PATHS.EHR_STREAM, \"wb\") as f:\n",
    "    pickle.dump(ehr_stream, f)\n",
    "\n",
    "with open(FILE_PATHS.TARGET_VALUES, \"wb\") as f:\n",
    "    pickle.dump(target_values, f)\n"
   ]
  }
 ],
 "metadata": {
  "kernelspec": {
   "display_name": "tf",
   "language": "python",
   "name": "python3"
  },
  "language_info": {
   "codemirror_mode": {
    "name": "ipython",
    "version": 3
   },
   "file_extension": ".py",
   "mimetype": "text/x-python",
   "name": "python",
   "nbconvert_exporter": "python",
   "pygments_lexer": "ipython3",
   "version": "3.9.12"
  },
  "vscode": {
   "interpreter": {
    "hash": "d6f07f10bbd904384622e2c81da346bac6398da26490ea76cc729ffb1c8c49fa"
   }
  }
 },
 "nbformat": 4,
 "nbformat_minor": 2
}
