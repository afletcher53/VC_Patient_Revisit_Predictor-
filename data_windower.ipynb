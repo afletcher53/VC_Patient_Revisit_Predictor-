{
 "cells": [
  {
   "cell_type": "code",
   "execution_count": null,
   "metadata": {},
   "outputs": [],
   "source": [
    "import os\n",
    "import pickle\n",
    "from typing import Tuple\n",
    "\n",
    "import pandas\n",
    "import pandas as pd\n",
    "import tqdm\n",
    "from configuration import FilePaths\n",
    "from tqdm import tqdm\n",
    "\n",
    "device = cuda.get_current_device()\n",
    "device.reset()\n",
    "from configuration import Config\n",
    "\n",
    "# Set seeds to ensure reproduceability\n",
    "tf.random.set_seed(Config.seed)\n",
    "np.random.seed(Config.seed)\n",
    "os.environ[\"PYTHONHASHSEED\"] = str(Config.seed)\n",
    "\n",
    "FILE_PATHS = FilePaths()"
   ]
  },
  {
   "cell_type": "code",
   "execution_count": null,
   "metadata": {},
   "outputs": [],
   "source": [
    "rearranged_df_as_read = pd.read_csv(FILE_PATHS.REARRANGED_DATA)"
   ]
  },
  {
   "cell_type": "code",
   "execution_count": null,
   "metadata": {},
   "outputs": [],
   "source": [
    "rearranged_df_as_read.head()"
   ]
  }
 ],
 "metadata": {
  "kernelspec": {
   "display_name": "tf-gpu",
   "language": "python",
   "name": "tf-gpu"
  },
  "language_info": {
   "codemirror_mode": {
    "name": "ipython",
    "version": 3
   },
   "file_extension": ".py",
   "mimetype": "text/x-python",
   "name": "python",
   "nbconvert_exporter": "python",
   "pygments_lexer": "ipython3",
   "version": "3.9.12"
  },
  "vscode": {
   "interpreter": {
    "hash": "fd69f43f58546b570e94fd7eba7b65e6bcc7a5bbc4eab0408017d18902915d69"
   }
  }
 },
 "nbformat": 4,
 "nbformat_minor": 2
}
