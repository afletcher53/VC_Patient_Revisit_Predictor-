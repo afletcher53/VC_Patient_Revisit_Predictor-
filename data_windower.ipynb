{
 "cells": [
  {
   "cell_type": "code",
   "execution_count": null,
   "metadata": {},
   "outputs": [],
   "source": [
    "import numpy\n",
    "import pandas as pd\n",
    "\n",
    "from configuration import Config, FilePaths\n",
    "\n",
    "FILE_PATHS = FilePaths()"
   ]
  },
  {
   "cell_type": "code",
   "execution_count": null,
   "metadata": {},
   "outputs": [],
   "source": [
    "rearranged_df_as_read = pd.read_csv(FILE_PATHS.REARRANGED_DATA, dtype=str)"
   ]
  },
  {
   "cell_type": "code",
   "execution_count": null,
   "metadata": {},
   "outputs": [],
   "source": [
    "rearranged_df = rearranged_df_as_read.copy()\n",
    "rearranged_df.set_index(\"Patient Id\", inplace=True)\n",
    "rearranged_df = rearranged_df.dropna()\n",
    "rearranged_df"
   ]
  },
  {
   "cell_type": "code",
   "execution_count": null,
   "metadata": {},
   "outputs": [],
   "source": [
    "# y = lambda x: int(x) if x.isdigit() else x\n",
    "# rearranged_df = rearranged_df.applymap(y)"
   ]
  },
  {
   "cell_type": "code",
   "execution_count": null,
   "metadata": {},
   "outputs": [],
   "source": [
    "def fit_data_to_timesteps(\n",
    "    df, verbose: bool = False, pad_timesteps: bool = True\n",
    ") -> list[list]:\n",
    "    patient_id_set: set = set(df.index)\n",
    "    time_stamps: list = [str(x) for x in range(1, 365 + 1)]\n",
    "    ehr_stream: list = []\n",
    "    for patient_id in patient_id_set:\n",
    "        element = df.index.get_loc(patient_id)\n",
    "        if verbose is True:\n",
    "            print(\"-\" * 56)\n",
    "            print(f\"Patient: {element}\")\n",
    "            print(\"-\" * 56)\n",
    "        for (colname, colvalue) in df.iloc[element].iteritems():\n",
    "            if colvalue not in time_stamps:\n",
    "                end_timestep: int = int(Config.time_step) + int(colname)\n",
    "                clamped_end_timestep: int = numpy.clip(end_timestep, 0, 365)\n",
    "                row_slice = df.iloc[element]\n",
    "                if verbose is True:\n",
    "                    print(f\"Visit found\")\n",
    "                    print(f\"Timestep with entry: {colname}\")\n",
    "                    print(f\"Timestep to go up till: { clamped_end_timestep}\")\n",
    "                    print(\"_\" * 56)\n",
    "                data_stream = row_slice.iloc[\n",
    "                    int(colname) : int(clamped_end_timestep)\n",
    "                ].to_list()\n",
    "\n",
    "                # Pad timestreams to timestep length\n",
    "                if len(data_stream) < Config.time_step:\n",
    "                    diff: int = Config.time_step - len(data_stream)\n",
    "                    pad_stream: list = [str('<pad>') for x in range(1, diff + 1)]\n",
    "                    data_stream.extend(pad_stream)\n",
    "\n",
    "                # Add count from previous timesteps\n",
    "                ehr_stream.append(\n",
    "                  data_stream\n",
    "                )\n",
    "    return ehr_stream\n",
    "\n",
    "\n",
    "ehr_stream: list = fit_data_to_timesteps(rearranged_df)\n",
    "\n",
    "# To do - add in pad_timestep function, and add counting from previous filled timesteps."
   ]
  },
  {
   "cell_type": "code",
   "execution_count": null,
   "metadata": {},
   "outputs": [],
   "source": [
    "# Function to reset list count index since last visit\n",
    "for index, element in enumerate(ehr_stream):\n",
    "    inner_lst = [int(s) if s.isdigit() else s for s in ehr_stream[index]]\n",
    "    count = 0\n",
    "    for inner_index, inner_element in enumerate(inner_lst):\n",
    "        if(type(inner_element) == str):\n",
    "            print(f'index of {inner_index} is a string, count reset')\n",
    "            count = 0\n",
    "        if count != 0:\n",
    "            print(f'Times since last visit {count}')\n",
    "        count += 1"
   ]
  },
  {
   "cell_type": "code",
   "execution_count": null,
   "metadata": {},
   "outputs": [],
   "source": [
    "ehr_stream[214]"
   ]
  }
 ],
 "metadata": {
  "kernelspec": {
   "display_name": "tf",
   "language": "python",
   "name": "python3"
  },
  "language_info": {
   "codemirror_mode": {
    "name": "ipython",
    "version": 3
   },
   "file_extension": ".py",
   "mimetype": "text/x-python",
   "name": "python",
   "nbconvert_exporter": "python",
   "pygments_lexer": "ipython3",
   "version": "3.9.12"
  },
  "vscode": {
   "interpreter": {
    "hash": "d6f07f10bbd904384622e2c81da346bac6398da26490ea76cc729ffb1c8c49fa"
   }
  }
 },
 "nbformat": 4,
 "nbformat_minor": 2
}
